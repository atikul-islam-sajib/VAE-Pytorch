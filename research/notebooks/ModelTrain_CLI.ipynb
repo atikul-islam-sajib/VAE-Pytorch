{
  "nbformat": 4,
  "nbformat_minor": 0,
  "metadata": {
    "colab": {
      "provenance": [],
      "gpuType": "T4"
    },
    "kernelspec": {
      "name": "python3",
      "display_name": "Python 3"
    },
    "language_info": {
      "name": "python"
    },
    "accelerator": "GPU"
  },
  "cells": [
    {
      "cell_type": "code",
      "execution_count": 16,
      "metadata": {
        "id": "_SGJNnzLAoL0"
      },
      "outputs": [],
      "source": [
        "!git clone https://github.com/atikul-islam-sajib/VAE-Pytorch.git"
      ]
    },
    {
      "cell_type": "code",
      "source": [
        "%cd /content/VAE-Pytorch"
      ],
      "metadata": {
        "id": "HjdHFzudAyWg"
      },
      "execution_count": 16,
      "outputs": []
    },
    {
      "cell_type": "code",
      "source": [
        "!pip install -r /content/VAE-Pytorch/requirements.txt"
      ],
      "metadata": {
        "id": "O0g7eWHUA48p"
      },
      "execution_count": 16,
      "outputs": []
    },
    {
      "cell_type": "code",
      "source": [
        "%cd /content/VAE-Pytorch"
      ],
      "metadata": {
        "id": "gRbmixgUCpj8"
      },
      "execution_count": 16,
      "outputs": []
    },
    {
      "cell_type": "code",
      "source": [
        "!python /content/VAE-Pytorch/src/cli.py --help"
      ],
      "metadata": {
        "id": "SOgJ4fCHA9At"
      },
      "execution_count": 16,
      "outputs": []
    },
    {
      "cell_type": "code",
      "source": [
        "%cat /content/VAE-Pytorch/config.yml"
      ],
      "metadata": {
        "id": "YI3BJzRaBJXd"
      },
      "execution_count": 16,
      "outputs": []
    },
    {
      "cell_type": "code",
      "source": [
        "!python /content/VAE-Pytorch/src/cli.py --train"
      ],
      "metadata": {
        "id": "Vmepz7C7CELW"
      },
      "execution_count": 16,
      "outputs": []
    },
    {
      "cell_type": "code",
      "source": [
        "!python /content/VAE-Pytorch/src/cli.py --test"
      ],
      "metadata": {
        "id": "9yHsxkM-C_SQ"
      },
      "execution_count": 16,
      "outputs": []
    }
  ]
}